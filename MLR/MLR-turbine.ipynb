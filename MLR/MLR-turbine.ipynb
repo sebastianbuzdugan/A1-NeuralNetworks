{
 "cells": [
  {
   "cell_type": "markdown",
   "metadata": {},
   "source": [
    "## Load the dataset"
   ]
  },
  {
   "cell_type": "code",
   "execution_count": 29,
   "metadata": {},
   "outputs": [
    {
     "name": "stdout",
     "output_type": "stream",
     "text": [
      "   Height over Sea Level    Fall 1    Fall 2    Fall 3      Flow\n",
      "0               1.458733  1.494763  1.565871 -1.363870 -0.920759\n",
      "1              -0.889207 -0.864935 -0.908663  0.322233 -0.087759\n",
      "2              -1.160123 -1.144520 -1.180093  0.322233 -0.250873\n",
      "3               1.639344  1.637351  1.545514  1.165284  2.003763\n",
      "4               0.736290  0.724040  0.742534  0.041216  0.473213\n"
     ]
    }
   ],
   "source": [
    "import pandas as pd\n",
    "import numpy as np\n",
    "import matplotlib.pyplot as plt\n",
    "from sklearn.impute import SimpleImputer\n",
    "from sklearn.linear_model import LinearRegression\n",
    "from sklearn.model_selection import train_test_split, KFold\n",
    "from sklearn.metrics import mean_absolute_percentage_error\n",
    "from sklearn.preprocessing import StandardScaler\n",
    "\n",
    "# load the dataset\n",
    "\n",
    "def load_and_preprocess_dataset(filepath):\n",
    "    dataset = pd.read_csv(filepath, sep=',', comment='#')\n",
    "\n",
    "   \n",
    "    print(dataset.head())\n",
    "\n",
    "    # separate the features (X) and the target variable (y)\n",
    "    X = dataset.iloc[:, :-1]\n",
    "    y = dataset.iloc[:, -1]\n",
    "\n",
    "    # check if X is not empty\n",
    "    if X.empty:\n",
    "        raise ValueError(\"Features DataFrame (X) is empty after slicing. Check the dataset structure.\")\n",
    "\n",
    "    # handle missing values using imputation\n",
    "    imputer = SimpleImputer(strategy='mean')\n",
    "    X_imputed = imputer.fit_transform(X)\n",
    "\n",
    "    # standardize the features\n",
    "    scaler = StandardScaler()\n",
    "    X_scaled = scaler.fit_transform(X_imputed)\n",
    "\n",
    "    return X_scaled, y\n",
    "\n",
    "X, y = load_and_preprocess_dataset('../Normalization/A1-turbine-normalized.csv')\n",
    "\n"
   ]
  },
  {
   "cell_type": "markdown",
   "metadata": {},
   "source": [
    "## Splitting the dataset"
   ]
  },
  {
   "cell_type": "code",
   "execution_count": 30,
   "metadata": {},
   "outputs": [],
   "source": [
    "X_train, X_test, y_train, y_test = train_test_split(X, y, test_size=0.15, random_state=42)"
   ]
  },
  {
   "cell_type": "markdown",
   "metadata": {},
   "source": [
    "## Cross-Validation and Model Training"
   ]
  },
  {
   "cell_type": "code",
   "execution_count": 31,
   "metadata": {},
   "outputs": [
    {
     "name": "stdout",
     "output_type": "stream",
     "text": [
      "Fold 1: Training on 305 samples, validating on 77 samples.\n",
      "Fold 1 - Training MAPE: 0.48%\n",
      "Fold 1 - Validation MAPE: 0.25%\n",
      "Fold 2: Training on 305 samples, validating on 77 samples.\n",
      "Fold 2 - Training MAPE: 0.44%\n",
      "Fold 2 - Validation MAPE: 0.38%\n",
      "Fold 3: Training on 306 samples, validating on 76 samples.\n",
      "Fold 3 - Training MAPE: 0.37%\n",
      "Fold 3 - Validation MAPE: 0.80%\n",
      "Fold 4: Training on 306 samples, validating on 76 samples.\n",
      "Fold 4 - Training MAPE: 0.44%\n",
      "Fold 4 - Validation MAPE: 0.47%\n",
      "Fold 5: Training on 306 samples, validating on 76 samples.\n",
      "Fold 5 - Training MAPE: 0.46%\n",
      "Fold 5 - Validation MAPE: 0.33%\n",
      "Average training MAPE across all folds: 0.44%\n",
      "Average validation MAPE across all folds: 0.44%\n"
     ]
    }
   ],
   "source": [
    "# reset y_train index if it's a pandas Series to ensure compatibility with numpy arrays\n",
    "if isinstance(y_train, pd.Series):\n",
    "    y_train = y_train.reset_index(drop=True)\n",
    "\n",
    "# initialize k-fold cross-validation with 5 splits\n",
    "kf = KFold(n_splits=5)\n",
    "train_errors = []\n",
    "val_errors = []\n",
    "train_mapes = []\n",
    "val_mapes = []\n",
    "\n",
    "# start with the first fold\n",
    "fold = 1\n",
    "\n",
    "# iterate over each train-test split provided by KFold\n",
    "for train_index, val_index in kf.split(X_train):\n",
    "    # split the data into training and validation sets for the current fold\n",
    "    X_train_cv, X_val_cv = X_train[train_index], X_train[val_index]\n",
    "    y_train_cv = y_train.iloc[train_index] if isinstance(y_train, pd.Series) else y_train[train_index]\n",
    "    y_val_cv = y_train.iloc[val_index] if isinstance(y_train, pd.Series) else y_train[val_index]\n",
    "\n",
    "    # log the size of each training and validation split\n",
    "    print(f\"Fold {fold}: Training on {len(train_index)} samples, validating on {len(val_index)} samples.\")\n",
    "\n",
    "    # initialize and train the Linear Regression model\n",
    "    model = LinearRegression()\n",
    "    model.fit(X_train_cv, y_train_cv)\n",
    "\n",
    "    # predict and calculate MAPE on the training subset\n",
    "    y_train_pred = model.predict(X_train_cv)\n",
    "    train_mape = mean_absolute_percentage_error(y_train_cv, y_train_pred)\n",
    "    train_mapes.append(train_mape)\n",
    "    print(f'Fold {fold} - Training MAPE: {train_mape:.2f}%')\n",
    "\n",
    "    # predict and calculate MAPE on the validation subset\n",
    "    y_val_pred = model.predict(X_val_cv)\n",
    "    val_mape = mean_absolute_percentage_error(y_val_cv, y_val_pred)\n",
    "    val_mapes.append(val_mape)\n",
    "    print(f'Fold {fold} - Validation MAPE: {val_mape:.2f}%')\n",
    "\n",
    "    # increment the fold counter\n",
    "    fold += 1\n",
    "\n",
    "# calculate and log the average training and validation MAPE\n",
    "avg_train_mape = np.mean(train_mapes)\n",
    "avg_val_mape = np.mean(val_mapes)\n",
    "print(f'Average training MAPE across all folds: {avg_train_mape:.2f}%')\n",
    "print(f'Average validation MAPE across all folds: {avg_val_mape:.2f}%')\n"
   ]
  },
  {
   "cell_type": "markdown",
   "metadata": {},
   "source": [
    "## Final Model Training and Evaluation"
   ]
  },
  {
   "cell_type": "code",
   "execution_count": 32,
   "metadata": {},
   "outputs": [
    {
     "name": "stdout",
     "output_type": "stream",
     "text": [
      "Final Model Coefficients: [-6.85208295 -0.9457851   8.23593419  1.51300795]\n",
      "Final Model Intercept: -0.0006750771220577177\n",
      "Test MAPE: 18.40%\n"
     ]
    }
   ],
   "source": [
    "model_final = LinearRegression()\n",
    "model_final.fit(X_train, y_train)\n",
    "\n",
    "print(f'Final Model Coefficients: {model_final.coef_}')\n",
    "print(f'Final Model Intercept: {model_final.intercept_}')\n",
    "\n",
    "y_pred_test = model_final.predict(X_test)\n",
    "test_mape = mean_absolute_percentage_error(y_test, y_pred_test)\n",
    "print(f'Test MAPE: {test_mape * 100:.2f}%')\n"
   ]
  },
  {
   "cell_type": "markdown",
   "metadata": {},
   "source": [
    "## Visualization of Predictions"
   ]
  },
  {
   "cell_type": "code",
   "execution_count": 33,
   "metadata": {},
   "outputs": [
    {
     "data": {
      "image/png": "[encoded data removed]",
      "text/plain": [
       "<Figure size 640x480 with 1 Axes>"
      ]
     },
     "metadata": {},
     "output_type": "display_data"
    }
   ],
   "source": [
    "plt.scatter(y_test, y_pred_test)\n",
    "plt.title('Scatter plot of Predicted vs Actual for MLR (Turbine)')\n",
    "plt.xlabel('Actual')\n",
    "plt.ylabel('Predicted')\n",
    "plt.plot([y_test.min(), y_test.max()], [y_test.min(), y_test.max()], 'k--', lw=2)  # diagonal line\n",
    "plt.show()\n"
   ]
  }
 ],
 "metadata": {
  "kernelspec": {
   "display_name": "Python 3",
   "language": "python",
   "name": "python3"
  },
  "language_info": {
   "codemirror_mode": {
    "name": "ipython",
    "version": 3
   },
   "file_extension": ".py",
   "mimetype": "text/x-python",
   "name": "python",
   "nbconvert_exporter": "python",
   "pygments_lexer": "ipython3",
   "version": "3.8.10"
  }
 },
 "nbformat": 4,
 "nbformat_minor": 2
}
