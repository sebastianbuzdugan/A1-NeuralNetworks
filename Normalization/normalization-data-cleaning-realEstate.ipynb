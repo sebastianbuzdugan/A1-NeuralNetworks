{
 "cells": [
  {
   "cell_type": "markdown",
   "metadata": {},
   "source": [
    "## Load the Dataset"
   ]
  },
  {
   "cell_type": "code",
   "execution_count": 1,
   "metadata": {},
   "outputs": [],
   "source": [
    "import pandas as pd\n",
    "\n",
    "# Load the dataset\n",
    "ucl_data_path = '../Data/UCI_Real_Estate_Valuation.xlsx'\n",
    "ucl_data = pd.read_excel(ucl_data_path)\n"
   ]
  },
  {
   "cell_type": "markdown",
   "metadata": {},
   "source": [
    "## Data cleaning"
   ]
  },
  {
   "cell_type": "code",
   "execution_count": 2,
   "metadata": {},
   "outputs": [
    {
     "name": "stdout",
     "output_type": "stream",
     "text": [
      "Missing values in each column:\n",
      " No                                        0\n",
      "X1 transaction date                       0\n",
      "X2 house age                              0\n",
      "X3 distance to the nearest MRT station    0\n",
      "X4 number of convenience stores           0\n",
      "X5 latitude                               0\n",
      "X6 longitude                              0\n",
      "Y house price of unit area                0\n",
      "dtype: int64\n",
      "\n",
      "Data description:\n",
      "                No  X1 transaction date  X2 house age  \\\n",
      "count  414.000000           414.000000    414.000000   \n",
      "mean   207.500000          2013.148953     17.712560   \n",
      "std    119.655756             0.281995     11.392485   \n",
      "min      1.000000          2012.666667      0.000000   \n",
      "25%    104.250000          2012.916667      9.025000   \n",
      "50%    207.500000          2013.166667     16.100000   \n",
      "75%    310.750000          2013.416667     28.150000   \n",
      "max    414.000000          2013.583333     43.800000   \n",
      "\n",
      "       X3 distance to the nearest MRT station  \\\n",
      "count                              414.000000   \n",
      "mean                              1083.885689   \n",
      "std                               1262.109595   \n",
      "min                                 23.382840   \n",
      "25%                                289.324800   \n",
      "50%                                492.231300   \n",
      "75%                               1454.279000   \n",
      "max                               6488.021000   \n",
      "\n",
      "       X4 number of convenience stores  X5 latitude  X6 longitude  \\\n",
      "count                       414.000000   414.000000    414.000000   \n",
      "mean                          4.094203    24.969030    121.533361   \n",
      "std                           2.945562     0.012410      0.015347   \n",
      "min                           0.000000    24.932070    121.473530   \n",
      "25%                           1.000000    24.963000    121.528085   \n",
      "50%                           4.000000    24.971100    121.538630   \n",
      "75%                           6.000000    24.977455    121.543305   \n",
      "max                          10.000000    25.014590    121.566270   \n",
      "\n",
      "       Y house price of unit area  \n",
      "count                  414.000000  \n",
      "mean                    37.980193  \n",
      "std                     13.606488  \n",
      "min                      7.600000  \n",
      "25%                     27.700000  \n",
      "50%                     38.450000  \n",
      "75%                     46.600000  \n",
      "max                    117.500000  \n"
     ]
    }
   ],
   "source": [
    "# Check for missing values\n",
    "print(\"Missing values in each column:\\n\", ucl_data.isnull().sum())\n",
    "\n",
    "# Check for any obvious data inconsistencies\n",
    "print(\"\\nData description:\\n\", ucl_data.describe())\n"
   ]
  },
  {
   "cell_type": "markdown",
   "metadata": {},
   "source": [
    "## Normalize the data"
   ]
  },
  {
   "cell_type": "code",
   "execution_count": 3,
   "metadata": {},
   "outputs": [],
   "source": [
    "from sklearn.preprocessing import MinMaxScaler\n",
    "\n",
    "# initialize the MinMaxScaler\n",
    "min_max_scaler = MinMaxScaler()\n",
    "\n",
    "# assuming the first column 'No' is just an identifier and should be excluded\n",
    "features = ['X1 transaction date', 'X2 house age', 'X3 distance to the nearest MRT station', 'X4 number of convenience stores', 'X5 latitude', 'X6 longitude']\n",
    "X = ucl_data[features]\n",
    "\n",
    "# normalize the features\n",
    "ucl_data_normalized = pd.DataFrame(min_max_scaler.fit_transform(ucl_data), columns=ucl_data.columns)\n",
    "\n"
   ]
  },
  {
   "cell_type": "markdown",
   "metadata": {},
   "source": [
    "## Save the normalization "
   ]
  },
  {
   "cell_type": "code",
   "execution_count": 4,
   "metadata": {},
   "outputs": [
    {
     "name": "stdout",
     "output_type": "stream",
     "text": [
      "Normalized dataset saved as 'UCI_Real_Estate_normalized.csv'.\n"
     ]
    }
   ],
   "source": [
    "# Save the normalized dataset to a new CSV file\n",
    "ucl_data_normalized.to_csv('UCI_Real_Estate_normalized.csv', index=False)\n",
    "print(\"Normalized dataset saved as 'UCI_Real_Estate_normalized.csv'.\")"
   ]
  },
  {
   "cell_type": "markdown",
   "metadata": {},
   "source": [
    "## Verify the files"
   ]
  },
  {
   "cell_type": "code",
   "execution_count": 5,
   "metadata": {},
   "outputs": [
    {
     "name": "stdout",
     "output_type": "stream",
     "text": [
      "Normalized Data:\n",
      "         No  X1 transaction date  X2 house age  \\\n",
      "0  0.000000             0.272727      0.730594   \n",
      "1  0.002421             0.272727      0.445205   \n",
      "2  0.004843             1.000000      0.303653   \n",
      "3  0.007264             0.909091      0.303653   \n",
      "4  0.009685             0.181818      0.114155   \n",
      "\n",
      "   X3 distance to the nearest MRT station  X4 number of convenience stores  \\\n",
      "0                                0.009513                              1.0   \n",
      "1                                0.043809                              0.9   \n",
      "2                                0.083315                              0.5   \n",
      "3                                0.083315                              0.5   \n",
      "4                                0.056799                              0.5   \n",
      "\n",
      "   X5 latitude  X6 longitude  Y house price of unit area  \n",
      "0     0.616941      0.719323                    0.275705  \n",
      "1     0.584949      0.711451                    0.314832  \n",
      "2     0.671231      0.758896                    0.361237  \n",
      "3     0.671231      0.758896                    0.429481  \n",
      "4     0.573194      0.743153                    0.323021  \n"
     ]
    }
   ],
   "source": [
    "# load and display the first few rows of the normalized data file to verify\n",
    "normalized_data_loaded = pd.read_csv('UCI_Real_Estate_normalized.csv')\n",
    "print(\"Normalized Data:\")\n",
    "print(normalized_data_loaded.head())"
   ]
  }
 ],
 "metadata": {
  "kernelspec": {
   "display_name": "Python 3",
   "language": "python",
   "name": "python3"
  },
  "language_info": {
   "codemirror_mode": {
    "name": "ipython",
    "version": 3
   },
   "file_extension": ".py",
   "mimetype": "text/x-python",
   "name": "python",
   "nbconvert_exporter": "python",
   "pygments_lexer": "ipython3",
   "version": "3.8.10"
  }
 },
 "nbformat": 4,
 "nbformat_minor": 2
}
