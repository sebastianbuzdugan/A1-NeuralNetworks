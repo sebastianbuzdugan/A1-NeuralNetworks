{
 "cells": [
  {
   "cell_type": "markdown",
   "metadata": {},
   "source": [
    "## Load the dataset"
   ]
  },
  {
   "cell_type": "code",
   "execution_count": 19,
   "metadata": {},
   "outputs": [],
   "source": [
    "import pandas as pd\n",
    "\n",
    "# load the dataset\n",
    "a1_turbine_path = '../Data/A1-turbine.txt'\n",
    "a1_turbine_data = pd.read_csv(a1_turbine_path, sep='\\t', header=0, comment='#')\n"
   ]
  },
  {
   "cell_type": "code",
   "execution_count": 20,
   "metadata": {},
   "outputs": [
    {
     "name": "stdout",
     "output_type": "stream",
     "text": [
      "<class 'pandas.core.frame.DataFrame'>\n",
      "RangeIndex: 450 entries, 0 to 449\n",
      "Data columns (total 5 columns):\n",
      " #   Column                 Non-Null Count  Dtype  \n",
      "---  ------                 --------------  -----  \n",
      " 0   Height over Sea Level  450 non-null    float64\n",
      " 1   Fall 1                 450 non-null    float64\n",
      " 2   Fall 2                 450 non-null    float64\n",
      " 3   Fall 3                 450 non-null    float64\n",
      " 4   Flow                   450 non-null    float64\n",
      "dtypes: float64(5)\n",
      "memory usage: 17.7 KB\n"
     ]
    },
    {
     "data": {
      "text/html": [
       "<div>\n",
       "<style scoped>\n",
       "    .dataframe tbody tr th:only-of-type {\n",
       "        vertical-align: middle;\n",
       "    }\n",
       "\n",
       "    .dataframe tbody tr th {\n",
       "        vertical-align: top;\n",
       "    }\n",
       "\n",
       "    .dataframe thead th {\n",
       "        text-align: right;\n",
       "    }\n",
       "</style>\n",
       "<table border=\"1\" class=\"dataframe\">\n",
       "  <thead>\n",
       "    <tr style=\"text-align: right;\">\n",
       "      <th></th>\n",
       "      <th>Height over Sea Level</th>\n",
       "      <th>Fall 1</th>\n",
       "      <th>Fall 2</th>\n",
       "      <th>Fall 3</th>\n",
       "      <th>Flow</th>\n",
       "    </tr>\n",
       "  </thead>\n",
       "  <tbody>\n",
       "    <tr>\n",
       "      <th>0</th>\n",
       "      <td>628.0</td>\n",
       "      <td>93.16</td>\n",
       "      <td>93.765</td>\n",
       "      <td>3.5</td>\n",
       "      <td>2583.79</td>\n",
       "    </tr>\n",
       "    <tr>\n",
       "      <th>1</th>\n",
       "      <td>602.0</td>\n",
       "      <td>67.84</td>\n",
       "      <td>66.415</td>\n",
       "      <td>6.5</td>\n",
       "      <td>3748.77</td>\n",
       "    </tr>\n",
       "    <tr>\n",
       "      <th>2</th>\n",
       "      <td>599.0</td>\n",
       "      <td>64.84</td>\n",
       "      <td>63.415</td>\n",
       "      <td>6.5</td>\n",
       "      <td>3520.65</td>\n",
       "    </tr>\n",
       "    <tr>\n",
       "      <th>3</th>\n",
       "      <td>630.0</td>\n",
       "      <td>94.69</td>\n",
       "      <td>93.540</td>\n",
       "      <td>8.0</td>\n",
       "      <td>6673.84</td>\n",
       "    </tr>\n",
       "    <tr>\n",
       "      <th>4</th>\n",
       "      <td>620.0</td>\n",
       "      <td>84.89</td>\n",
       "      <td>84.665</td>\n",
       "      <td>6.0</td>\n",
       "      <td>4533.31</td>\n",
       "    </tr>\n",
       "  </tbody>\n",
       "</table>\n",
       "</div>"
      ],
      "text/plain": [
       "   Height over Sea Level  Fall 1  Fall 2  Fall 3     Flow\n",
       "0                  628.0   93.16  93.765     3.5  2583.79\n",
       "1                  602.0   67.84  66.415     6.5  3748.77\n",
       "2                  599.0   64.84  63.415     6.5  3520.65\n",
       "3                  630.0   94.69  93.540     8.0  6673.84\n",
       "4                  620.0   84.89  84.665     6.0  4533.31"
      ]
     },
     "execution_count": 20,
     "metadata": {},
     "output_type": "execute_result"
    }
   ],
   "source": [
    "# changing names for the columns\n",
    "column_names = [\"Height over Sea Level\", \"Fall 1\", \"Fall 2\", \"Fall 3\", \"Flow\"]\n",
    "a1_turbine_data.columns = column_names\n",
    "\n",
    "# display dataset info\n",
    "a1_turbine_data.info()\n",
    "a1_turbine_data.head()\n"
   ]
  },
  {
   "cell_type": "markdown",
   "metadata": {},
   "source": [
    "## Normalize the data"
   ]
  },
  {
   "cell_type": "code",
   "execution_count": 21,
   "metadata": {},
   "outputs": [
    {
     "data": {
      "text/html": [
       "<div>\n",
       "<style scoped>\n",
       "    .dataframe tbody tr th:only-of-type {\n",
       "        vertical-align: middle;\n",
       "    }\n",
       "\n",
       "    .dataframe tbody tr th {\n",
       "        vertical-align: top;\n",
       "    }\n",
       "\n",
       "    .dataframe thead th {\n",
       "        text-align: right;\n",
       "    }\n",
       "</style>\n",
       "<table border=\"1\" class=\"dataframe\">\n",
       "  <thead>\n",
       "    <tr style=\"text-align: right;\">\n",
       "      <th></th>\n",
       "      <th>Height over Sea Level</th>\n",
       "      <th>Fall 1</th>\n",
       "      <th>Fall 2</th>\n",
       "      <th>Fall 3</th>\n",
       "      <th>Flow</th>\n",
       "    </tr>\n",
       "  </thead>\n",
       "  <tbody>\n",
       "    <tr>\n",
       "      <th>0</th>\n",
       "      <td>1.458733</td>\n",
       "      <td>1.494763</td>\n",
       "      <td>1.565871</td>\n",
       "      <td>-1.363870</td>\n",
       "      <td>-0.920759</td>\n",
       "    </tr>\n",
       "    <tr>\n",
       "      <th>1</th>\n",
       "      <td>-0.889207</td>\n",
       "      <td>-0.864935</td>\n",
       "      <td>-0.908663</td>\n",
       "      <td>0.322233</td>\n",
       "      <td>-0.087759</td>\n",
       "    </tr>\n",
       "    <tr>\n",
       "      <th>2</th>\n",
       "      <td>-1.160123</td>\n",
       "      <td>-1.144520</td>\n",
       "      <td>-1.180093</td>\n",
       "      <td>0.322233</td>\n",
       "      <td>-0.250873</td>\n",
       "    </tr>\n",
       "    <tr>\n",
       "      <th>3</th>\n",
       "      <td>1.639344</td>\n",
       "      <td>1.637351</td>\n",
       "      <td>1.545514</td>\n",
       "      <td>1.165284</td>\n",
       "      <td>2.003763</td>\n",
       "    </tr>\n",
       "    <tr>\n",
       "      <th>4</th>\n",
       "      <td>0.736290</td>\n",
       "      <td>0.724040</td>\n",
       "      <td>0.742534</td>\n",
       "      <td>0.041216</td>\n",
       "      <td>0.473213</td>\n",
       "    </tr>\n",
       "  </tbody>\n",
       "</table>\n",
       "</div>"
      ],
      "text/plain": [
       "   Height over Sea Level    Fall 1    Fall 2    Fall 3      Flow\n",
       "0               1.458733  1.494763  1.565871 -1.363870 -0.920759\n",
       "1              -0.889207 -0.864935 -0.908663  0.322233 -0.087759\n",
       "2              -1.160123 -1.144520 -1.180093  0.322233 -0.250873\n",
       "3               1.639344  1.637351  1.545514  1.165284  2.003763\n",
       "4               0.736290  0.724040  0.742534  0.041216  0.473213"
      ]
     },
     "execution_count": 21,
     "metadata": {},
     "output_type": "execute_result"
    }
   ],
   "source": [
    "from sklearn.preprocessing import StandardScaler\n",
    "\n",
    "\n",
    "# initializing the StandardScaler\n",
    "scaler = StandardScaler()\n",
    "\n",
    "# itting the scaler to the data and transforming it\n",
    "normalized_turbine_data = scaler.fit_transform(a1_turbine_data)\n",
    "\n",
    "# Converting the normalized data back to a DataFrame for easier interpretation\n",
    "normalized_turbine_df = pd.DataFrame(normalized_turbine_data, columns=a1_turbine_data.columns)\n",
    "\n",
    "# Displaying the first few rows of the normalized data\n",
    "normalized_turbine_df.head()\n"
   ]
  },
  {
   "cell_type": "markdown",
   "metadata": {},
   "source": [
    "## Save the normalization"
   ]
  },
  {
   "cell_type": "code",
   "execution_count": 22,
   "metadata": {},
   "outputs": [],
   "source": [
    "normalized_turbine_df.to_csv('A1-turbine-normalized.csv', index=False)\n",
    "print(\"Normalized dataset saved as 'A1-turbine-normalized.csv'.\")\n"
   ]
  }
 ],
 "metadata": {
  "kernelspec": {
   "display_name": "Python 3",
   "language": "python",
   "name": "python3"
  },
  "language_info": {
   "codemirror_mode": {
    "name": "ipython",
    "version": 3
   },
   "file_extension": ".py",
   "mimetype": "text/x-python",
   "name": "python",
   "nbconvert_exporter": "python",
   "pygments_lexer": "ipython3",
   "version": "3.8.10"
  }
 },
 "nbformat": 4,
 "nbformat_minor": 2
}
