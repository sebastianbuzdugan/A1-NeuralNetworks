{
 "cells": [
  {
   "cell_type": "markdown",
   "metadata": {},
   "source": [
    "## Load the dataset"
   ]
  },
  {
   "cell_type": "code",
   "execution_count": 9,
   "metadata": {},
   "outputs": [
    {
     "name": "stdout",
     "output_type": "stream",
     "text": [
      "   No  X1 transaction date  X2 house age  \\\n",
      "0   1             0.272727      0.730594   \n",
      "1   2             0.272727      0.445205   \n",
      "2   3             1.000000      0.303653   \n",
      "3   4             0.909091      0.303653   \n",
      "4   5             0.181818      0.114155   \n",
      "\n",
      "   X3 distance to the nearest MRT station  X4 number of convenience stores  \\\n",
      "0                                0.009513                              1.0   \n",
      "1                                0.043809                              0.9   \n",
      "2                                0.083315                              0.5   \n",
      "3                                0.083315                              0.5   \n",
      "4                                0.056799                              0.5   \n",
      "\n",
      "   X5 latitude  X6 longitude  Y house price of unit area  \n",
      "0     0.616941      0.719323                        37.9  \n",
      "1     0.584949      0.711451                        42.2  \n",
      "2     0.671231      0.758896                        47.3  \n",
      "3     0.671231      0.758896                        54.8  \n",
      "4     0.573194      0.743153                        43.1  \n"
     ]
    }
   ],
   "source": [
    "import pandas as pd\n",
    "from sklearn.model_selection import train_test_split\n",
    "from matplotlib import pyplot as plt\n",
    "\n",
    "# adjust the separator to tab if your data is tab-separated\n",
    "normalized_data_path = '../Normalization/UCI_Real_Estate_normalized.csv'\n",
    "data = pd.read_csv(normalized_data_path, sep=',', header=0)\n",
    "\n",
    "# print the first few rows of the DataFrame to verify correct loading\n",
    "print(data.head())\n",
    "\n"
   ]
  },
  {
   "cell_type": "markdown",
   "metadata": {},
   "source": [
    "## Data Preprocessing"
   ]
  },
  {
   "cell_type": "code",
   "execution_count": 10,
   "metadata": {},
   "outputs": [
    {
     "name": "stdout",
     "output_type": "stream",
     "text": [
      "Training set shape: (331, 6) (331,)\n",
      "Testing set shape: (83, 6) (83,)\n"
     ]
    }
   ],
   "source": [
    "data = data.drop(['No'], axis=1)\n",
    "\n",
    "X = data.drop('Y house price of unit area', axis=1)  # all columns except the target\n",
    "y = data['Y house price of unit area']  # only the target column\n",
    "\n",
    "\n",
    "# split the dataset into training (80%) and testing (20%) sets\n",
    "X_train, X_test, y_train, y_test = train_test_split(X, y, test_size=0.20, random_state=42)\n",
    "\n",
    "# display the shape of the train and test sets to verify the split\n",
    "print(\"Training set shape:\", X_train.shape, y_train.shape)\n",
    "print(\"Testing set shape:\", X_test.shape, y_test.shape)\n"
   ]
  },
  {
   "cell_type": "markdown",
   "metadata": {},
   "source": [
    "## Model Training"
   ]
  },
  {
   "cell_type": "code",
   "execution_count": 11,
   "metadata": {},
   "outputs": [
    {
     "name": "stderr",
     "output_type": "stream",
     "text": [
      "WARNING:absl:At this time, the v2.11+ optimizer `tf.keras.optimizers.SGD` runs slowly on M1/M2 Macs, please use the legacy Keras optimizer instead, located at `tf.keras.optimizers.legacy.SGD`.\n",
      "WARNING:absl:There is a known slowdown when using v2.11+ Keras optimizers on M1/M2 Macs. Falling back to the legacy Keras optimizer, i.e., `tf.keras.optimizers.legacy.SGD`.\n"
     ]
    },
    {
     "name": "stdout",
     "output_type": "stream",
     "text": [
      "WARNING:tensorflow:5 out of the last 24 calls to <function Model.make_predict_function.<locals>.predict_function at 0x293a46940> triggered tf.function retracing. Tracing is expensive and the excessive number of tracings could be due to (1) creating @tf.function repeatedly in a loop, (2) passing tensors with different shapes, (3) passing Python objects instead of tensors. For (1), please define your @tf.function outside of the loop. For (2), @tf.function has reduce_retracing=True option that can avoid unnecessary retracing. For (3), please refer to https://www.tensorflow.org/guide/function#controlling_retracing and https://www.tensorflow.org/api_docs/python/tf/function for  more details.\n"
     ]
    },
    {
     "name": "stderr",
     "output_type": "stream",
     "text": [
      "WARNING:tensorflow:5 out of the last 24 calls to <function Model.make_predict_function.<locals>.predict_function at 0x293a46940> triggered tf.function retracing. Tracing is expensive and the excessive number of tracings could be due to (1) creating @tf.function repeatedly in a loop, (2) passing tensors with different shapes, (3) passing Python objects instead of tensors. For (1), please define your @tf.function outside of the loop. For (2), @tf.function has reduce_retracing=True option that can avoid unnecessary retracing. For (3), please refer to https://www.tensorflow.org/guide/function#controlling_retracing and https://www.tensorflow.org/api_docs/python/tf/function for  more details.\n"
     ]
    },
    {
     "name": "stdout",
     "output_type": "stream",
     "text": [
      "3/3 [==============================] - 0s 2ms/step\n",
      "11/11 [==============================] - 0s 1ms/step\n"
     ]
    },
    {
     "name": "stderr",
     "output_type": "stream",
     "text": [
      "WARNING:absl:At this time, the v2.11+ optimizer `tf.keras.optimizers.Adam` runs slowly on M1/M2 Macs, please use the legacy Keras optimizer instead, located at `tf.keras.optimizers.legacy.Adam`.\n",
      "WARNING:absl:There is a known slowdown when using v2.11+ Keras optimizers on M1/M2 Macs. Falling back to the legacy Keras optimizer, i.e., `tf.keras.optimizers.legacy.Adam`.\n"
     ]
    },
    {
     "name": "stdout",
     "output_type": "stream",
     "text": [
      "3/3 [==============================] - 0s 970us/step\n",
      "11/11 [==============================] - 0s 560us/step\n"
     ]
    },
    {
     "name": "stderr",
     "output_type": "stream",
     "text": [
      "WARNING:absl:At this time, the v2.11+ optimizer `tf.keras.optimizers.Adam` runs slowly on M1/M2 Macs, please use the legacy Keras optimizer instead, located at `tf.keras.optimizers.legacy.Adam`.\n",
      "WARNING:absl:There is a known slowdown when using v2.11+ Keras optimizers on M1/M2 Macs. Falling back to the legacy Keras optimizer, i.e., `tf.keras.optimizers.legacy.Adam`.\n"
     ]
    },
    {
     "name": "stdout",
     "output_type": "stream",
     "text": [
      "3/3 [==============================] - 0s 1ms/step\n",
      "11/11 [==============================] - 0s 741us/step\n",
      "Best Configuration: {'config': {'num_layers': 2, 'layer_structure': [32, 16], 'num_epochs': 200, 'learning_rate': 0.1, 'momentum': None, 'activation_function': 'relu'}, 'mse': 38.03187561035156, 'test_mape': 13.955439900570655, 'train_mape': 15.003780652299238}\n",
      "Worst Configuration: {'config': {'num_layers': 2, 'layer_structure': [64, 32], 'num_epochs': 100, 'learning_rate': 0.01, 'momentum': 0.9, 'activation_function': 'relu'}, 'mse': 53.309600830078125, 'test_mape': 15.75602626402823, 'train_mape': 18.68335875954369}\n"
     ]
    }
   ],
   "source": [
    "import tensorflow as tf\n",
    "from sklearn.model_selection import train_test_split\n",
    "import pandas as pd\n",
    "import numpy as np\n",
    "\n",
    "def create_model(num_layers, layer_structure, num_epochs, learning_rate, momentum, activation_function):\n",
    "    model = tf.keras.Sequential()\n",
    "    \n",
    "    # add hidden layers as specified in layer_structure\n",
    "    for i, units in enumerate(layer_structure[:-1]):  # exclude the last element for the output layer\n",
    "        if i == 0:  # first layer needs to specify input shape\n",
    "            model.add(tf.keras.layers.Dense(units, activation=activation_function, input_shape=(X_train.shape[1],)))\n",
    "        else:\n",
    "            model.add(tf.keras.layers.Dense(units, activation=activation_function))\n",
    "    \n",
    "    # output layer with 1 unit for regression\n",
    "    model.add(tf.keras.layers.Dense(1, activation='linear'))  # ensure this matches your regression task\n",
    "    \n",
    "    if momentum is not None:\n",
    "        optimizer = tf.keras.optimizers.SGD(learning_rate=learning_rate, momentum=momentum)\n",
    "    else:\n",
    "        optimizer = tf.keras.optimizers.Adam(learning_rate=learning_rate)\n",
    "    \n",
    "    model.compile(optimizer=optimizer, loss='mean_squared_error')\n",
    "    return model, num_epochs\n",
    "\n",
    "# example configurations \n",
    "configs = [\n",
    "    {'num_layers': 2, 'layer_structure': [64, 32], 'num_epochs': 100, 'learning_rate': 0.01, 'momentum': 0.9, 'activation_function': 'relu'},\n",
    "    {'num_layers': 3, 'layer_structure': [128, 64, 32], 'num_epochs': 150, 'learning_rate': 0.001, 'momentum': None, 'activation_function': 'relu'},\n",
    "    {'num_layers': 2, 'layer_structure': [32, 16], 'num_epochs': 200, 'learning_rate': 0.1, 'momentum': None, 'activation_function': 'relu'},\n",
    "    # {'num_layers': 3, 'layer_structure': [64, 64, 64], 'num_epochs': 100, 'learning_rate': 0.01, 'momentum': 0.8, 'activation_function': 'tanh'},\n",
    "    # {'num_layers': 1, 'layer_structure': [64], 'num_epochs': 50, 'learning_rate': 0.01, 'momentum': 0.9, 'activation_function': 'sigmoid'},\n",
    "    # {'num_layers': 4, 'layer_structure': [128, 128, 64, 32], 'num_epochs': 100, 'learning_rate': 0.005, 'momentum': 0.9, 'activation_function': 'relu'},\n",
    "]\n",
    "\n",
    "results = []\n",
    "\n",
    "for config in configs:\n",
    "    model, num_epochs = create_model(**config)\n",
    "    # train the model and save the history\n",
    "    history = model.fit(X_train, y_train, epochs=num_epochs, validation_split=0.1, verbose=0)\n",
    "    \n",
    "    # evaluate the model on the test set\n",
    "    mse = model.evaluate(X_test, y_test, verbose=0)\n",
    "    y_pred = model.predict(X_test).reshape(-1)\n",
    "    \n",
    "    # calculate test MAPE\n",
    "    y_test_np = np.array(y_test).flatten()\n",
    "    test_ape = np.abs((y_test_np - y_pred) / np.maximum(np.abs(y_test_np), 1e-6))\n",
    "    test_mape = 100 * np.mean(test_ape)\n",
    "    \n",
    "    # calculate training MAPE using the training data predictions and actual values\n",
    "    y_train_pred = model.predict(X_train).reshape(-1)\n",
    "    y_train_np = np.array(y_train).flatten()\n",
    "    train_ape = np.abs((y_train_np - y_train_pred) / np.maximum(np.abs(y_train_np), 1e-6))\n",
    "    train_mape = 100 * np.mean(train_ape)\n",
    "    \n",
    "    # append both training and test MAPE to the results\n",
    "    results.append({'config': config, 'mse': mse, 'test_mape': test_mape, 'train_mape': train_mape})\n",
    "\n",
    "# sort and find the best and worst configurations\n",
    "sorted_results = sorted(results, key=lambda x: x['mse'])\n",
    "print(\"Best Configuration:\", sorted_results[0])\n",
    "print(\"Worst Configuration:\", sorted_results[-1])\n",
    "\n"
   ]
  },
  {
   "cell_type": "markdown",
   "metadata": {},
   "source": [
    "## Visualization"
   ]
  },
  {
   "cell_type": "code",
   "execution_count": 12,
   "metadata": {},
   "outputs": [
    {
     "data": {
      "image/png": "[encoded data removed]",
      "text/plain": [
       "<Figure size 1000x600 with 1 Axes>"
      ]
     },
     "metadata": {},
     "output_type": "display_data"
    }
   ],
   "source": [
    "\n",
    "# plot actual vs predicted values for visual comparison\n",
    "\n",
    "plt.figure(figsize=(10,6))\n",
    "plt.scatter(y_test, y_pred, color='blue')  # actual values in blue\n",
    "plt.plot([y_test.min(), y_test.max()], [y_test.min(), y_test.max()], 'k--', lw=4)  # line for perfect predictions\n",
    "plt.xlabel('Actual')\n",
    "plt.ylabel('Predicted')\n",
    "plt.title('Actual vs. Predicted Values')\n",
    "plt.show()\n",
    "        "
   ]
  }
 ],
 "metadata": {
  "kernelspec": {
   "display_name": "Python 3",
   "language": "python",
   "name": "python3"
  },
  "language_info": {
   "codemirror_mode": {
    "name": "ipython",
    "version": 3
   },
   "file_extension": ".py",
   "mimetype": "text/x-python",
   "name": "python",
   "nbconvert_exporter": "python",
   "pygments_lexer": "ipython3",
   "version": "3.8.10"
  }
 },
 "nbformat": 4,
 "nbformat_minor": 2
}
